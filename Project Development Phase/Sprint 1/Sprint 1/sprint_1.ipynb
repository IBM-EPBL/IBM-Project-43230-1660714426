{
  "nbformat": 4,
  "nbformat_minor": 0,
  "metadata": {
    "colab": {
      "provenance": [],
      "collapsed_sections": [
        "Qdcp6hyGRKPh"
      ]
    },
    "kernelspec": {
      "name": "python3",
      "display_name": "Python 3"
    },
    "language_info": {
      "name": "python"
    },
    "accelerator": "GPU"
  },
  "cells": [
    {
      "cell_type": "markdown",
      "source": [
        "# Unzip the data"
      ],
      "metadata": {
        "id": "Qdcp6hyGRKPh"
      }
    },
    {
      "cell_type": "code",
      "execution_count": 1,
      "metadata": {
        "colab": {
          "base_uri": "https://localhost:8080/"
        },
        "id": "qAaTd0W-D0uG",
        "outputId": "49edbce0-04fb-402f-9fe8-f2b77425df13"
      },
      "outputs": [
        {
          "output_type": "stream",
          "name": "stdout",
          "text": [
            "Archive:  /content/dataset.zip\n",
            "   creating: dataset/\n",
            "   creating: dataset/Testing/\n",
            "   creating: dataset/Testing/0/\n",
            "  inflating: dataset/Testing/0/0.jpg  \n",
            "  inflating: dataset/Testing/0/1.jpg  \n",
            "  inflating: dataset/Testing/0/2.jpg  \n",
            "  inflating: dataset/Testing/0/3.jpg  \n",
            "  inflating: dataset/Testing/0/4.jpg  \n",
            "   creating: dataset/Testing/1/\n",
            "  inflating: dataset/Testing/1/0.jpg  \n",
            "  inflating: dataset/Testing/1/1.jpg  \n",
            "  inflating: dataset/Testing/1/2.jpg  \n",
            "  inflating: dataset/Testing/1/3.jpg  \n",
            "  inflating: dataset/Testing/1/4.jpg  \n",
            "   creating: dataset/Testing/2/\n",
            "  inflating: dataset/Testing/2/0.jpg  \n",
            "  inflating: dataset/Testing/2/1.jpg  \n",
            "  inflating: dataset/Testing/2/2.jpg  \n",
            "  inflating: dataset/Testing/2/3.jpg  \n",
            "  inflating: dataset/Testing/2/4.jpg  \n",
            "   creating: dataset/Testing/3/\n",
            "  inflating: dataset/Testing/3/0.jpg  \n",
            "  inflating: dataset/Testing/3/1.jpg  \n",
            "  inflating: dataset/Testing/3/2.jpg  \n",
            "  inflating: dataset/Testing/3/3.jpg  \n",
            "  inflating: dataset/Testing/3/4.jpg  \n",
            "   creating: dataset/Testing/4/\n",
            "  inflating: dataset/Testing/4/0.jpg  \n",
            "  inflating: dataset/Testing/4/1.jpg  \n",
            "  inflating: dataset/Testing/4/2.jpg  \n",
            "  inflating: dataset/Testing/4/3.jpg  \n",
            "  inflating: dataset/Testing/4/4.jpg  \n",
            "   creating: dataset/Testing/5/\n",
            "  inflating: dataset/Testing/5/0.jpg  \n",
            "  inflating: dataset/Testing/5/1.jpg  \n",
            "  inflating: dataset/Testing/5/2.jpg  \n",
            "  inflating: dataset/Testing/5/3.jpg  \n",
            "  inflating: dataset/Testing/5/4.jpg  \n",
            "   creating: dataset/Training/\n",
            "   creating: dataset/Training/0/\n",
            "  inflating: dataset/Training/0/1.jpg  \n",
            "  inflating: dataset/Training/0/10.jpg  \n",
            "  inflating: dataset/Training/0/11.jpg  \n",
            "  inflating: dataset/Training/0/12.jpg  \n",
            "  inflating: dataset/Training/0/13.jpg  \n",
            "  inflating: dataset/Training/0/14.jpg  \n",
            "  inflating: dataset/Training/0/15.jpg  \n",
            "  inflating: dataset/Training/0/16.jpg  \n",
            "  inflating: dataset/Training/0/17.jpg  \n",
            "  inflating: dataset/Training/0/18.jpg  \n",
            "  inflating: dataset/Training/0/19.jpg  \n",
            "  inflating: dataset/Training/0/2.jpg  \n",
            "  inflating: dataset/Training/0/20.jpg  \n",
            "  inflating: dataset/Training/0/21.jpg  \n",
            "  inflating: dataset/Training/0/22.jpg  \n",
            "  inflating: dataset/Training/0/23.jpg  \n",
            "  inflating: dataset/Training/0/24.jpg  \n",
            "  inflating: dataset/Training/0/25.jpg  \n",
            "  inflating: dataset/Training/0/26.jpg  \n",
            "  inflating: dataset/Training/0/27.jpg  \n",
            "  inflating: dataset/Training/0/28.jpg  \n",
            "  inflating: dataset/Training/0/29.jpg  \n",
            "  inflating: dataset/Training/0/3.jpg  \n",
            "  inflating: dataset/Training/0/30.jpg  \n",
            "  inflating: dataset/Training/0/31.jpg  \n",
            "  inflating: dataset/Training/0/32.jpg  \n",
            "  inflating: dataset/Training/0/33.jpg  \n",
            "  inflating: dataset/Training/0/34.jpg  \n",
            "  inflating: dataset/Training/0/35.jpg  \n",
            "  inflating: dataset/Training/0/36.jpg  \n",
            "  inflating: dataset/Training/0/37.jpg  \n",
            "  inflating: dataset/Training/0/38.jpg  \n",
            "  inflating: dataset/Training/0/39.jpg  \n",
            "  inflating: dataset/Training/0/4.jpg  \n",
            "  inflating: dataset/Training/0/40.jpg  \n",
            "  inflating: dataset/Training/0/41.jpg  \n",
            "  inflating: dataset/Training/0/42.jpg  \n",
            "  inflating: dataset/Training/0/43.jpg  \n",
            "  inflating: dataset/Training/0/44.jpg  \n",
            "  inflating: dataset/Training/0/45.jpg  \n",
            "  inflating: dataset/Training/0/46.jpg  \n",
            "  inflating: dataset/Training/0/47.jpg  \n",
            "  inflating: dataset/Training/0/48.jpg  \n",
            "  inflating: dataset/Training/0/49.jpg  \n",
            "  inflating: dataset/Training/0/5.jpg  \n",
            "  inflating: dataset/Training/0/50.jpg  \n",
            "  inflating: dataset/Training/0/51.jpg  \n",
            "  inflating: dataset/Training/0/52.jpg  \n",
            "  inflating: dataset/Training/0/53.jpg  \n",
            "  inflating: dataset/Training/0/54.jpg  \n",
            "  inflating: dataset/Training/0/55.jpg  \n",
            "  inflating: dataset/Training/0/56.jpg  \n",
            "  inflating: dataset/Training/0/57.jpg  \n",
            "  inflating: dataset/Training/0/58.jpg  \n",
            "  inflating: dataset/Training/0/59.jpg  \n",
            "  inflating: dataset/Training/0/6.jpg  \n",
            "  inflating: dataset/Training/0/60.jpg  \n",
            "  inflating: dataset/Training/0/61.jpg  \n",
            "  inflating: dataset/Training/0/62.jpg  \n",
            "  inflating: dataset/Training/0/63.jpg  \n",
            "  inflating: dataset/Training/0/64.jpg  \n",
            "  inflating: dataset/Training/0/65.jpg  \n",
            "  inflating: dataset/Training/0/66.jpg  \n",
            "  inflating: dataset/Training/0/67.jpg  \n",
            "  inflating: dataset/Training/0/68.jpg  \n",
            "  inflating: dataset/Training/0/69.jpg  \n",
            "  inflating: dataset/Training/0/7.jpg  \n",
            "  inflating: dataset/Training/0/70.jpg  \n",
            "  inflating: dataset/Training/0/71.jpg  \n",
            "  inflating: dataset/Training/0/72.jpg  \n",
            "  inflating: dataset/Training/0/73.jpg  \n",
            "  inflating: dataset/Training/0/74.jpg  \n",
            "  inflating: dataset/Training/0/75.jpg  \n",
            "  inflating: dataset/Training/0/76.jpg  \n",
            "  inflating: dataset/Training/0/77.jpg  \n",
            "  inflating: dataset/Training/0/78.jpg  \n",
            "  inflating: dataset/Training/0/79.jpg  \n",
            "  inflating: dataset/Training/0/8.jpg  \n",
            "  inflating: dataset/Training/0/80.jpg  \n",
            "  inflating: dataset/Training/0/81.jpg  \n",
            "  inflating: dataset/Training/0/82.jpg  \n",
            "  inflating: dataset/Training/0/83.jpg  \n",
            "  inflating: dataset/Training/0/84.jpg  \n",
            "  inflating: dataset/Training/0/85.jpg  \n",
            "  inflating: dataset/Training/0/86.jpg  \n",
            "  inflating: dataset/Training/0/87.jpg  \n",
            "  inflating: dataset/Training/0/88.jpg  \n",
            "  inflating: dataset/Training/0/89.jpg  \n",
            "  inflating: dataset/Training/0/9.jpg  \n",
            "  inflating: dataset/Training/0/90.jpg  \n",
            "  inflating: dataset/Training/0/91.jpg  \n",
            "  inflating: dataset/Training/0/92.jpg  \n",
            "  inflating: dataset/Training/0/93.jpg  \n",
            "  inflating: dataset/Training/0/94.jpg  \n",
            "  inflating: dataset/Training/0/95.jpg  \n",
            "  inflating: dataset/Training/0/96.jpg  \n",
            "  inflating: dataset/Training/0/97.jpg  \n",
            "  inflating: dataset/Training/0/98.jpg  \n",
            "  inflating: dataset/Training/0/99.jpg  \n",
            "   creating: dataset/Training/1/\n",
            "  inflating: dataset/Training/1/1.jpg  \n",
            "  inflating: dataset/Training/1/10.jpg  \n",
            "  inflating: dataset/Training/1/11.jpg  \n",
            "  inflating: dataset/Training/1/12.jpg  \n",
            "  inflating: dataset/Training/1/13.jpg  \n",
            "  inflating: dataset/Training/1/14.jpg  \n",
            "  inflating: dataset/Training/1/15.jpg  \n",
            "  inflating: dataset/Training/1/16.jpg  \n",
            "  inflating: dataset/Training/1/17.jpg  \n",
            "  inflating: dataset/Training/1/18.jpg  \n",
            "  inflating: dataset/Training/1/19.jpg  \n",
            "  inflating: dataset/Training/1/2.jpg  \n",
            "  inflating: dataset/Training/1/20.jpg  \n",
            "  inflating: dataset/Training/1/21.jpg  \n",
            "  inflating: dataset/Training/1/22.jpg  \n",
            "  inflating: dataset/Training/1/23.jpg  \n",
            "  inflating: dataset/Training/1/24.jpg  \n",
            "  inflating: dataset/Training/1/25.jpg  \n",
            "  inflating: dataset/Training/1/26.jpg  \n",
            "  inflating: dataset/Training/1/27.jpg  \n",
            "  inflating: dataset/Training/1/28.jpg  \n",
            "  inflating: dataset/Training/1/29.jpg  \n",
            "  inflating: dataset/Training/1/3.jpg  \n",
            "  inflating: dataset/Training/1/30.jpg  \n",
            "  inflating: dataset/Training/1/31.jpg  \n",
            "  inflating: dataset/Training/1/32.jpg  \n",
            "  inflating: dataset/Training/1/33.jpg  \n",
            "  inflating: dataset/Training/1/34.jpg  \n",
            "  inflating: dataset/Training/1/35.jpg  \n",
            "  inflating: dataset/Training/1/36.jpg  \n",
            "  inflating: dataset/Training/1/37.jpg  \n",
            "  inflating: dataset/Training/1/38.jpg  \n",
            "  inflating: dataset/Training/1/39.jpg  \n",
            "  inflating: dataset/Training/1/4.jpg  \n",
            "  inflating: dataset/Training/1/40.jpg  \n",
            "  inflating: dataset/Training/1/41.jpg  \n",
            "  inflating: dataset/Training/1/42.jpg  \n",
            "  inflating: dataset/Training/1/43.jpg  \n",
            "  inflating: dataset/Training/1/44.jpg  \n",
            "  inflating: dataset/Training/1/45.jpg  \n",
            "  inflating: dataset/Training/1/46.jpg  \n",
            "  inflating: dataset/Training/1/47.jpg  \n",
            "  inflating: dataset/Training/1/48.jpg  \n",
            "  inflating: dataset/Training/1/49.jpg  \n",
            "  inflating: dataset/Training/1/5.jpg  \n",
            "  inflating: dataset/Training/1/50.jpg  \n",
            "  inflating: dataset/Training/1/51.jpg  \n",
            "  inflating: dataset/Training/1/52.jpg  \n",
            "  inflating: dataset/Training/1/53.jpg  \n",
            "  inflating: dataset/Training/1/54.jpg  \n",
            "  inflating: dataset/Training/1/55.jpg  \n",
            "  inflating: dataset/Training/1/56.jpg  \n",
            "  inflating: dataset/Training/1/57.jpg  \n",
            "  inflating: dataset/Training/1/58.jpg  \n",
            "  inflating: dataset/Training/1/59.jpg  \n",
            "  inflating: dataset/Training/1/6.jpg  \n",
            "  inflating: dataset/Training/1/60.jpg  \n",
            "  inflating: dataset/Training/1/61.jpg  \n",
            "  inflating: dataset/Training/1/62.jpg  \n",
            "  inflating: dataset/Training/1/63.jpg  \n",
            "  inflating: dataset/Training/1/64.jpg  \n",
            "  inflating: dataset/Training/1/65.jpg  \n",
            "  inflating: dataset/Training/1/66.jpg  \n",
            "  inflating: dataset/Training/1/67.jpg  \n",
            "  inflating: dataset/Training/1/68.jpg  \n",
            "  inflating: dataset/Training/1/69.jpg  \n",
            "  inflating: dataset/Training/1/7.jpg  \n",
            "  inflating: dataset/Training/1/70.jpg  \n",
            "  inflating: dataset/Training/1/71.jpg  \n",
            "  inflating: dataset/Training/1/72.jpg  \n",
            "  inflating: dataset/Training/1/73.jpg  \n",
            "  inflating: dataset/Training/1/74.jpg  \n",
            "  inflating: dataset/Training/1/75.jpg  \n",
            "  inflating: dataset/Training/1/76.jpg  \n",
            "  inflating: dataset/Training/1/77.jpg  \n",
            "  inflating: dataset/Training/1/78.jpg  \n",
            "  inflating: dataset/Training/1/79.jpg  \n",
            "  inflating: dataset/Training/1/8.jpg  \n",
            "  inflating: dataset/Training/1/80.jpg  \n",
            "  inflating: dataset/Training/1/81.jpg  \n",
            "  inflating: dataset/Training/1/82.jpg  \n",
            "  inflating: dataset/Training/1/83.jpg  \n",
            "  inflating: dataset/Training/1/84.jpg  \n",
            "  inflating: dataset/Training/1/85.jpg  \n",
            "  inflating: dataset/Training/1/86.jpg  \n",
            "  inflating: dataset/Training/1/87.jpg  \n",
            "  inflating: dataset/Training/1/88.jpg  \n",
            "  inflating: dataset/Training/1/89.jpg  \n",
            "  inflating: dataset/Training/1/9.jpg  \n",
            "  inflating: dataset/Training/1/90.jpg  \n",
            "  inflating: dataset/Training/1/91.jpg  \n",
            "  inflating: dataset/Training/1/92.jpg  \n",
            "  inflating: dataset/Training/1/93.jpg  \n",
            "  inflating: dataset/Training/1/94.jpg  \n",
            "  inflating: dataset/Training/1/95.jpg  \n",
            "  inflating: dataset/Training/1/96.jpg  \n",
            "  inflating: dataset/Training/1/97.jpg  \n",
            "  inflating: dataset/Training/1/98.jpg  \n",
            "  inflating: dataset/Training/1/99.jpg  \n",
            "   creating: dataset/Training/2/\n",
            "  inflating: dataset/Training/2/1.jpg  \n",
            "  inflating: dataset/Training/2/10.jpg  \n",
            "  inflating: dataset/Training/2/11.jpg  \n",
            "  inflating: dataset/Training/2/12.jpg  \n",
            "  inflating: dataset/Training/2/13.jpg  \n",
            "  inflating: dataset/Training/2/14.jpg  \n",
            "  inflating: dataset/Training/2/15.jpg  \n",
            "  inflating: dataset/Training/2/16.jpg  \n",
            "  inflating: dataset/Training/2/17.jpg  \n",
            "  inflating: dataset/Training/2/18.jpg  \n",
            "  inflating: dataset/Training/2/19.jpg  \n",
            "  inflating: dataset/Training/2/2.jpg  \n",
            "  inflating: dataset/Training/2/20.jpg  \n",
            "  inflating: dataset/Training/2/21.jpg  \n",
            "  inflating: dataset/Training/2/22.jpg  \n",
            "  inflating: dataset/Training/2/23.jpg  \n",
            "  inflating: dataset/Training/2/24.jpg  \n",
            "  inflating: dataset/Training/2/25.jpg  \n",
            "  inflating: dataset/Training/2/26.jpg  \n",
            "  inflating: dataset/Training/2/27.jpg  \n",
            "  inflating: dataset/Training/2/28.jpg  \n",
            "  inflating: dataset/Training/2/29.jpg  \n",
            "  inflating: dataset/Training/2/3.jpg  \n",
            "  inflating: dataset/Training/2/30.jpg  \n",
            "  inflating: dataset/Training/2/31.jpg  \n",
            "  inflating: dataset/Training/2/32.jpg  \n",
            "  inflating: dataset/Training/2/33.jpg  \n",
            "  inflating: dataset/Training/2/34.jpg  \n",
            "  inflating: dataset/Training/2/35.jpg  \n",
            "  inflating: dataset/Training/2/36.jpg  \n",
            "  inflating: dataset/Training/2/37.jpg  \n",
            "  inflating: dataset/Training/2/38.jpg  \n",
            "  inflating: dataset/Training/2/39.jpg  \n",
            "  inflating: dataset/Training/2/4.jpg  \n",
            "  inflating: dataset/Training/2/40.jpg  \n",
            "  inflating: dataset/Training/2/41.jpg  \n",
            "  inflating: dataset/Training/2/42.jpg  \n",
            "  inflating: dataset/Training/2/43.jpg  \n",
            "  inflating: dataset/Training/2/44.jpg  \n",
            "  inflating: dataset/Training/2/45.jpg  \n",
            "  inflating: dataset/Training/2/46.jpg  \n",
            "  inflating: dataset/Training/2/47.jpg  \n",
            "  inflating: dataset/Training/2/48.jpg  \n",
            "  inflating: dataset/Training/2/49.jpg  \n",
            "  inflating: dataset/Training/2/5.jpg  \n",
            "  inflating: dataset/Training/2/50.jpg  \n",
            "  inflating: dataset/Training/2/51.jpg  \n",
            "  inflating: dataset/Training/2/52.jpg  \n",
            "  inflating: dataset/Training/2/53.jpg  \n",
            "  inflating: dataset/Training/2/54.jpg  \n",
            "  inflating: dataset/Training/2/55.jpg  \n",
            "  inflating: dataset/Training/2/56.jpg  \n",
            "  inflating: dataset/Training/2/57.jpg  \n",
            "  inflating: dataset/Training/2/58.jpg  \n",
            "  inflating: dataset/Training/2/59.jpg  \n",
            "  inflating: dataset/Training/2/6.jpg  \n",
            "  inflating: dataset/Training/2/60.jpg  \n",
            "  inflating: dataset/Training/2/61.jpg  \n",
            "  inflating: dataset/Training/2/62.jpg  \n",
            "  inflating: dataset/Training/2/63.jpg  \n",
            "  inflating: dataset/Training/2/64.jpg  \n",
            "  inflating: dataset/Training/2/65.jpg  \n",
            "  inflating: dataset/Training/2/66.jpg  \n",
            "  inflating: dataset/Training/2/67.jpg  \n",
            "  inflating: dataset/Training/2/68.jpg  \n",
            "  inflating: dataset/Training/2/69.jpg  \n",
            "  inflating: dataset/Training/2/7.jpg  \n",
            "  inflating: dataset/Training/2/70.jpg  \n",
            "  inflating: dataset/Training/2/71.jpg  \n",
            "  inflating: dataset/Training/2/72.jpg  \n",
            "  inflating: dataset/Training/2/73.jpg  \n",
            "  inflating: dataset/Training/2/74.jpg  \n",
            "  inflating: dataset/Training/2/75.jpg  \n",
            "  inflating: dataset/Training/2/76.jpg  \n",
            "  inflating: dataset/Training/2/77.jpg  \n",
            "  inflating: dataset/Training/2/78.jpg  \n",
            "  inflating: dataset/Training/2/79.jpg  \n",
            "  inflating: dataset/Training/2/8.jpg  \n",
            "  inflating: dataset/Training/2/80.jpg  \n",
            "  inflating: dataset/Training/2/81.jpg  \n",
            "  inflating: dataset/Training/2/82.jpg  \n",
            "  inflating: dataset/Training/2/83.jpg  \n",
            "  inflating: dataset/Training/2/84.jpg  \n",
            "  inflating: dataset/Training/2/85.jpg  \n",
            "  inflating: dataset/Training/2/86.jpg  \n",
            "  inflating: dataset/Training/2/87.jpg  \n",
            "  inflating: dataset/Training/2/88.jpg  \n",
            "  inflating: dataset/Training/2/89.jpg  \n",
            "  inflating: dataset/Training/2/9.jpg  \n",
            "  inflating: dataset/Training/2/90.jpg  \n",
            "  inflating: dataset/Training/2/91.jpg  \n",
            "  inflating: dataset/Training/2/92.jpg  \n",
            "  inflating: dataset/Training/2/93.jpg  \n",
            "  inflating: dataset/Training/2/94.jpg  \n",
            "  inflating: dataset/Training/2/95.jpg  \n",
            "  inflating: dataset/Training/2/96.jpg  \n",
            "  inflating: dataset/Training/2/97.jpg  \n",
            "  inflating: dataset/Training/2/98.jpg  \n",
            "  inflating: dataset/Training/2/99.jpg  \n",
            "   creating: dataset/Training/3/\n",
            "  inflating: dataset/Training/3/1.jpg  \n",
            "  inflating: dataset/Training/3/10.jpg  \n",
            "  inflating: dataset/Training/3/11.jpg  \n",
            "  inflating: dataset/Training/3/12.jpg  \n",
            "  inflating: dataset/Training/3/13.jpg  \n",
            "  inflating: dataset/Training/3/14.jpg  \n",
            "  inflating: dataset/Training/3/15.jpg  \n",
            "  inflating: dataset/Training/3/16.jpg  \n",
            "  inflating: dataset/Training/3/17.jpg  \n",
            "  inflating: dataset/Training/3/18.jpg  \n",
            "  inflating: dataset/Training/3/19.jpg  \n",
            "  inflating: dataset/Training/3/2.jpg  \n",
            "  inflating: dataset/Training/3/20.jpg  \n",
            "  inflating: dataset/Training/3/21.jpg  \n",
            "  inflating: dataset/Training/3/22.jpg  \n",
            "  inflating: dataset/Training/3/23.jpg  \n",
            "  inflating: dataset/Training/3/24.jpg  \n",
            "  inflating: dataset/Training/3/25.jpg  \n",
            "  inflating: dataset/Training/3/26.jpg  \n",
            "  inflating: dataset/Training/3/27.jpg  \n",
            "  inflating: dataset/Training/3/28.jpg  \n",
            "  inflating: dataset/Training/3/29.jpg  \n",
            "  inflating: dataset/Training/3/3.jpg  \n",
            "  inflating: dataset/Training/3/30.jpg  \n",
            "  inflating: dataset/Training/3/31.jpg  \n",
            "  inflating: dataset/Training/3/32.jpg  \n",
            "  inflating: dataset/Training/3/33.jpg  \n",
            "  inflating: dataset/Training/3/34.jpg  \n",
            "  inflating: dataset/Training/3/35.jpg  \n",
            "  inflating: dataset/Training/3/36.jpg  \n",
            "  inflating: dataset/Training/3/37.jpg  \n",
            "  inflating: dataset/Training/3/38.jpg  \n",
            "  inflating: dataset/Training/3/39.jpg  \n",
            "  inflating: dataset/Training/3/4.jpg  \n",
            "  inflating: dataset/Training/3/40.jpg  \n",
            "  inflating: dataset/Training/3/41.jpg  \n",
            "  inflating: dataset/Training/3/42.jpg  \n",
            "  inflating: dataset/Training/3/43.jpg  \n",
            "  inflating: dataset/Training/3/44.jpg  \n",
            "  inflating: dataset/Training/3/45.jpg  \n",
            "  inflating: dataset/Training/3/46.jpg  \n",
            "  inflating: dataset/Training/3/47.jpg  \n",
            "  inflating: dataset/Training/3/48.jpg  \n",
            "  inflating: dataset/Training/3/49.jpg  \n",
            "  inflating: dataset/Training/3/5.jpg  \n",
            "  inflating: dataset/Training/3/50.jpg  \n",
            "  inflating: dataset/Training/3/51.jpg  \n",
            "  inflating: dataset/Training/3/52.jpg  \n",
            "  inflating: dataset/Training/3/53.jpg  \n",
            "  inflating: dataset/Training/3/54.jpg  \n",
            "  inflating: dataset/Training/3/55.jpg  \n",
            "  inflating: dataset/Training/3/56.jpg  \n",
            "  inflating: dataset/Training/3/57.jpg  \n",
            "  inflating: dataset/Training/3/58.jpg  \n",
            "  inflating: dataset/Training/3/59.jpg  \n",
            "  inflating: dataset/Training/3/6.jpg  \n",
            "  inflating: dataset/Training/3/60.jpg  \n",
            "  inflating: dataset/Training/3/61.jpg  \n",
            "  inflating: dataset/Training/3/62.jpg  \n",
            "  inflating: dataset/Training/3/63.jpg  \n",
            "  inflating: dataset/Training/3/64.jpg  \n",
            "  inflating: dataset/Training/3/65.jpg  \n",
            "  inflating: dataset/Training/3/66.jpg  \n",
            "  inflating: dataset/Training/3/67.jpg  \n",
            "  inflating: dataset/Training/3/68.jpg  \n",
            "  inflating: dataset/Training/3/69.jpg  \n",
            "  inflating: dataset/Training/3/7.jpg  \n",
            "  inflating: dataset/Training/3/70.jpg  \n",
            "  inflating: dataset/Training/3/71.jpg  \n",
            "  inflating: dataset/Training/3/72.jpg  \n",
            "  inflating: dataset/Training/3/73.jpg  \n",
            "  inflating: dataset/Training/3/74.jpg  \n",
            "  inflating: dataset/Training/3/75.jpg  \n",
            "  inflating: dataset/Training/3/76.jpg  \n",
            "  inflating: dataset/Training/3/77.jpg  \n",
            "  inflating: dataset/Training/3/78.jpg  \n",
            "  inflating: dataset/Training/3/79.jpg  \n",
            "  inflating: dataset/Training/3/8.jpg  \n",
            "  inflating: dataset/Training/3/80.jpg  \n",
            "  inflating: dataset/Training/3/81.jpg  \n",
            "  inflating: dataset/Training/3/82.jpg  \n",
            "  inflating: dataset/Training/3/83.jpg  \n",
            "  inflating: dataset/Training/3/84.jpg  \n",
            "  inflating: dataset/Training/3/85.jpg  \n",
            "  inflating: dataset/Training/3/86.jpg  \n",
            "  inflating: dataset/Training/3/87.jpg  \n",
            "  inflating: dataset/Training/3/88.jpg  \n",
            "  inflating: dataset/Training/3/89.jpg  \n",
            "  inflating: dataset/Training/3/9.jpg  \n",
            "  inflating: dataset/Training/3/90.jpg  \n",
            "  inflating: dataset/Training/3/91.jpg  \n",
            "  inflating: dataset/Training/3/92.jpg  \n",
            "  inflating: dataset/Training/3/93.jpg  \n",
            "  inflating: dataset/Training/3/94.jpg  \n",
            "  inflating: dataset/Training/3/95.jpg  \n",
            "  inflating: dataset/Training/3/96.jpg  \n",
            "  inflating: dataset/Training/3/97.jpg  \n",
            "  inflating: dataset/Training/3/98.jpg  \n",
            "  inflating: dataset/Training/3/99.jpg  \n",
            "   creating: dataset/Training/4/\n",
            "  inflating: dataset/Training/4/1.jpg  \n",
            "  inflating: dataset/Training/4/10.jpg  \n",
            "  inflating: dataset/Training/4/11.jpg  \n",
            "  inflating: dataset/Training/4/12.jpg  \n",
            "  inflating: dataset/Training/4/13.jpg  \n",
            "  inflating: dataset/Training/4/14.jpg  \n",
            "  inflating: dataset/Training/4/15.jpg  \n",
            "  inflating: dataset/Training/4/16.jpg  \n",
            "  inflating: dataset/Training/4/17.jpg  \n",
            "  inflating: dataset/Training/4/18.jpg  \n",
            "  inflating: dataset/Training/4/19.jpg  \n",
            "  inflating: dataset/Training/4/2.jpg  \n",
            "  inflating: dataset/Training/4/20.jpg  \n",
            "  inflating: dataset/Training/4/21.jpg  \n",
            "  inflating: dataset/Training/4/22.jpg  \n",
            "  inflating: dataset/Training/4/23.jpg  \n",
            "  inflating: dataset/Training/4/24.jpg  \n",
            "  inflating: dataset/Training/4/25.jpg  \n",
            "  inflating: dataset/Training/4/26.jpg  \n",
            "  inflating: dataset/Training/4/27.jpg  \n",
            "  inflating: dataset/Training/4/28.jpg  \n",
            "  inflating: dataset/Training/4/29.jpg  \n",
            "  inflating: dataset/Training/4/3.jpg  \n",
            "  inflating: dataset/Training/4/30.jpg  \n",
            "  inflating: dataset/Training/4/31.jpg  \n",
            "  inflating: dataset/Training/4/32.jpg  \n",
            "  inflating: dataset/Training/4/33.jpg  \n",
            "  inflating: dataset/Training/4/34.jpg  \n",
            "  inflating: dataset/Training/4/35.jpg  \n",
            "  inflating: dataset/Training/4/36.jpg  \n",
            "  inflating: dataset/Training/4/37.jpg  \n",
            "  inflating: dataset/Training/4/38.jpg  \n",
            "  inflating: dataset/Training/4/39.jpg  \n",
            "  inflating: dataset/Training/4/4.jpg  \n",
            "  inflating: dataset/Training/4/40.jpg  \n",
            "  inflating: dataset/Training/4/41.jpg  \n",
            "  inflating: dataset/Training/4/42.jpg  \n",
            "  inflating: dataset/Training/4/43.jpg  \n",
            "  inflating: dataset/Training/4/44.jpg  \n",
            "  inflating: dataset/Training/4/45.jpg  \n",
            "  inflating: dataset/Training/4/46.jpg  \n",
            "  inflating: dataset/Training/4/47.jpg  \n",
            "  inflating: dataset/Training/4/48.jpg  \n",
            "  inflating: dataset/Training/4/49.jpg  \n",
            "  inflating: dataset/Training/4/5.jpg  \n",
            "  inflating: dataset/Training/4/50.jpg  \n",
            "  inflating: dataset/Training/4/51.jpg  \n",
            "  inflating: dataset/Training/4/52.jpg  \n",
            "  inflating: dataset/Training/4/53.jpg  \n",
            "  inflating: dataset/Training/4/54.jpg  \n",
            "  inflating: dataset/Training/4/55.jpg  \n",
            "  inflating: dataset/Training/4/56.jpg  \n",
            "  inflating: dataset/Training/4/57.jpg  \n",
            "  inflating: dataset/Training/4/58.jpg  \n",
            "  inflating: dataset/Training/4/59.jpg  \n",
            "  inflating: dataset/Training/4/6.jpg  \n",
            "  inflating: dataset/Training/4/60.jpg  \n",
            "  inflating: dataset/Training/4/61.jpg  \n",
            "  inflating: dataset/Training/4/62.jpg  \n",
            "  inflating: dataset/Training/4/63.jpg  \n",
            "  inflating: dataset/Training/4/64.jpg  \n",
            "  inflating: dataset/Training/4/65.jpg  \n",
            "  inflating: dataset/Training/4/66.jpg  \n",
            "  inflating: dataset/Training/4/67.jpg  \n",
            "  inflating: dataset/Training/4/68.jpg  \n",
            "  inflating: dataset/Training/4/69.jpg  \n",
            "  inflating: dataset/Training/4/7.jpg  \n",
            "  inflating: dataset/Training/4/70.jpg  \n",
            "  inflating: dataset/Training/4/71.jpg  \n",
            "  inflating: dataset/Training/4/72.jpg  \n",
            "  inflating: dataset/Training/4/73.jpg  \n",
            "  inflating: dataset/Training/4/74.jpg  \n",
            "  inflating: dataset/Training/4/75.jpg  \n",
            "  inflating: dataset/Training/4/76.jpg  \n",
            "  inflating: dataset/Training/4/77.jpg  \n",
            "  inflating: dataset/Training/4/78.jpg  \n",
            "  inflating: dataset/Training/4/79.jpg  \n",
            "  inflating: dataset/Training/4/8.jpg  \n",
            "  inflating: dataset/Training/4/80.jpg  \n",
            "  inflating: dataset/Training/4/81.jpg  \n",
            "  inflating: dataset/Training/4/82.jpg  \n",
            "  inflating: dataset/Training/4/83.jpg  \n",
            "  inflating: dataset/Training/4/84.jpg  \n",
            "  inflating: dataset/Training/4/85.jpg  \n",
            "  inflating: dataset/Training/4/86.jpg  \n",
            "  inflating: dataset/Training/4/87.jpg  \n",
            "  inflating: dataset/Training/4/88.jpg  \n",
            "  inflating: dataset/Training/4/89.jpg  \n",
            "  inflating: dataset/Training/4/9.jpg  \n",
            "  inflating: dataset/Training/4/90.jpg  \n",
            "  inflating: dataset/Training/4/91.jpg  \n",
            "  inflating: dataset/Training/4/92.jpg  \n",
            "  inflating: dataset/Training/4/93.jpg  \n",
            "  inflating: dataset/Training/4/94.jpg  \n",
            "  inflating: dataset/Training/4/95.jpg  \n",
            "  inflating: dataset/Training/4/96.jpg  \n",
            "  inflating: dataset/Training/4/97.jpg  \n",
            "  inflating: dataset/Training/4/98.jpg  \n",
            "  inflating: dataset/Training/4/99.jpg  \n",
            "   creating: dataset/Training/5/\n",
            "  inflating: dataset/Training/5/1.jpg  \n",
            "  inflating: dataset/Training/5/10.jpg  \n",
            "  inflating: dataset/Training/5/11.jpg  \n",
            "  inflating: dataset/Training/5/12.jpg  \n",
            "  inflating: dataset/Training/5/13.jpg  \n",
            "  inflating: dataset/Training/5/14.jpg  \n",
            "  inflating: dataset/Training/5/15.jpg  \n",
            "  inflating: dataset/Training/5/16.jpg  \n",
            "  inflating: dataset/Training/5/17.jpg  \n",
            "  inflating: dataset/Training/5/18.jpg  \n",
            "  inflating: dataset/Training/5/19.jpg  \n",
            "  inflating: dataset/Training/5/2.jpg  \n",
            "  inflating: dataset/Training/5/20.jpg  \n",
            "  inflating: dataset/Training/5/21.jpg  \n",
            "  inflating: dataset/Training/5/22.jpg  \n",
            "  inflating: dataset/Training/5/23.jpg  \n",
            "  inflating: dataset/Training/5/24.jpg  \n",
            "  inflating: dataset/Training/5/25.jpg  \n",
            "  inflating: dataset/Training/5/26.jpg  \n",
            "  inflating: dataset/Training/5/27.jpg  \n",
            "  inflating: dataset/Training/5/28.jpg  \n",
            "  inflating: dataset/Training/5/29.jpg  \n",
            "  inflating: dataset/Training/5/3.jpg  \n",
            "  inflating: dataset/Training/5/30.jpg  \n",
            "  inflating: dataset/Training/5/31.jpg  \n",
            "  inflating: dataset/Training/5/32.jpg  \n",
            "  inflating: dataset/Training/5/33.jpg  \n",
            "  inflating: dataset/Training/5/34.jpg  \n",
            "  inflating: dataset/Training/5/35.jpg  \n",
            "  inflating: dataset/Training/5/36.jpg  \n",
            "  inflating: dataset/Training/5/37.jpg  \n",
            "  inflating: dataset/Training/5/38.jpg  \n",
            "  inflating: dataset/Training/5/39.jpg  \n",
            "  inflating: dataset/Training/5/4.jpg  \n",
            "  inflating: dataset/Training/5/40.jpg  \n",
            "  inflating: dataset/Training/5/41.jpg  \n",
            "  inflating: dataset/Training/5/42.jpg  \n",
            "  inflating: dataset/Training/5/43.jpg  \n",
            "  inflating: dataset/Training/5/44.jpg  \n",
            "  inflating: dataset/Training/5/45.jpg  \n",
            "  inflating: dataset/Training/5/46.jpg  \n",
            "  inflating: dataset/Training/5/47.jpg  \n",
            "  inflating: dataset/Training/5/48.jpg  \n",
            "  inflating: dataset/Training/5/49.jpg  \n",
            "  inflating: dataset/Training/5/5.jpg  \n",
            "  inflating: dataset/Training/5/50.jpg  \n",
            "  inflating: dataset/Training/5/51.jpg  \n",
            "  inflating: dataset/Training/5/52.jpg  \n",
            "  inflating: dataset/Training/5/53.jpg  \n",
            "  inflating: dataset/Training/5/54.jpg  \n",
            "  inflating: dataset/Training/5/55.jpg  \n",
            "  inflating: dataset/Training/5/56.jpg  \n",
            "  inflating: dataset/Training/5/57.jpg  \n",
            "  inflating: dataset/Training/5/58.jpg  \n",
            "  inflating: dataset/Training/5/59.jpg  \n",
            "  inflating: dataset/Training/5/6.jpg  \n",
            "  inflating: dataset/Training/5/60.jpg  \n",
            "  inflating: dataset/Training/5/61.jpg  \n",
            "  inflating: dataset/Training/5/62.jpg  \n",
            "  inflating: dataset/Training/5/63.jpg  \n",
            "  inflating: dataset/Training/5/64.jpg  \n",
            "  inflating: dataset/Training/5/65.jpg  \n",
            "  inflating: dataset/Training/5/66.jpg  \n",
            "  inflating: dataset/Training/5/67.jpg  \n",
            "  inflating: dataset/Training/5/68.jpg  \n",
            "  inflating: dataset/Training/5/69.jpg  \n",
            "  inflating: dataset/Training/5/7.jpg  \n",
            "  inflating: dataset/Training/5/70.jpg  \n",
            "  inflating: dataset/Training/5/71.jpg  \n",
            "  inflating: dataset/Training/5/72.jpg  \n",
            "  inflating: dataset/Training/5/73.jpg  \n",
            "  inflating: dataset/Training/5/74.jpg  \n",
            "  inflating: dataset/Training/5/75.jpg  \n",
            "  inflating: dataset/Training/5/76.jpg  \n",
            "  inflating: dataset/Training/5/77.jpg  \n",
            "  inflating: dataset/Training/5/78.jpg  \n",
            "  inflating: dataset/Training/5/79.jpg  \n",
            "  inflating: dataset/Training/5/8.jpg  \n",
            "  inflating: dataset/Training/5/80.jpg  \n",
            "  inflating: dataset/Training/5/81.jpg  \n",
            "  inflating: dataset/Training/5/82.jpg  \n",
            "  inflating: dataset/Training/5/83.jpg  \n",
            "  inflating: dataset/Training/5/84.jpg  \n",
            "  inflating: dataset/Training/5/85.jpg  \n",
            "  inflating: dataset/Training/5/86.jpg  \n",
            "  inflating: dataset/Training/5/87.jpg  \n",
            "  inflating: dataset/Training/5/88.jpg  \n",
            "  inflating: dataset/Training/5/89.jpg  \n",
            "  inflating: dataset/Training/5/9.jpg  \n",
            "  inflating: dataset/Training/5/90.jpg  \n",
            "  inflating: dataset/Training/5/91.jpg  \n",
            "  inflating: dataset/Training/5/92.jpg  \n",
            "  inflating: dataset/Training/5/93.jpg  \n",
            "  inflating: dataset/Training/5/94.jpg  \n",
            "  inflating: dataset/Training/5/95.jpg  \n",
            "  inflating: dataset/Training/5/96.jpg  \n",
            "  inflating: dataset/Training/5/97.jpg  \n",
            "  inflating: dataset/Training/5/98.jpg  \n",
            "  inflating: dataset/Training/5/99.jpg  \n"
          ]
        }
      ],
      "source": [
        "!unzip '/content/dataset.zip'"
      ]
    },
    {
      "cell_type": "markdown",
      "source": [
        "#Data Augmentation"
      ],
      "metadata": {
        "id": "wIVxntA8R12w"
      }
    },
    {
      "cell_type": "code",
      "source": [
        "# Import required lib\n",
        "\n",
        "from tensorflow.keras.preprocessing.image import ImageDataGenerator"
      ],
      "metadata": {
        "id": "0tBJn6t4O74o"
      },
      "execution_count": 2,
      "outputs": []
    },
    {
      "cell_type": "code",
      "source": [
        "# Creating augmentation on training variable\n",
        "\n",
        "train_datagen = ImageDataGenerator(rescale=1./255,\n",
        "                                   zoom_range=0.2,\n",
        "                                   horizontal_flip=True)"
      ],
      "metadata": {
        "id": "WdmdbPtyTdd2"
      },
      "execution_count": 3,
      "outputs": []
    },
    {
      "cell_type": "code",
      "source": [
        "# Creating augmentation on testing variable\n",
        "\n",
        "test_datagen = ImageDataGenerator(rescale=1./255)"
      ],
      "metadata": {
        "id": "H4tWQZpmUFu-"
      },
      "execution_count": 4,
      "outputs": []
    },
    {
      "cell_type": "code",
      "source": [
        "# Passing training data to train variable\n",
        "\n",
        "xtrain = train_datagen.flow_from_directory('/content/dataset/Training',\n",
        "                                           target_size=(64,64),\n",
        "                                           class_mode='categorical',\n",
        "                                           batch_size=100)"
      ],
      "metadata": {
        "colab": {
          "base_uri": "https://localhost:8080/"
        },
        "id": "Y7gbVhZBVRF0",
        "outputId": "35f929ca-ecbb-4f66-a5ab-369315ca6d43"
      },
      "execution_count": 5,
      "outputs": [
        {
          "output_type": "stream",
          "name": "stdout",
          "text": [
            "Found 594 images belonging to 6 classes.\n"
          ]
        }
      ]
    },
    {
      "cell_type": "code",
      "source": [
        "# Passing testing data to test variable\n",
        "\n",
        "xtest = test_datagen.flow_from_directory('/content/dataset/Testing',\n",
        "                                         target_size=(64,64),\n",
        "                                         class_mode='categorical',\n",
        "                                         batch_size=100)"
      ],
      "metadata": {
        "colab": {
          "base_uri": "https://localhost:8080/"
        },
        "id": "46-0RjLwW3Ps",
        "outputId": "63cfb7d9-edf8-471d-9ad1-119e2b219c10"
      },
      "execution_count": 6,
      "outputs": [
        {
          "output_type": "stream",
          "name": "stdout",
          "text": [
            "Found 30 images belonging to 6 classes.\n"
          ]
        }
      ]
    },
    {
      "cell_type": "markdown",
      "source": [
        "# CNN Model"
      ],
      "metadata": {
        "id": "cp3CcEGfcYkR"
      }
    },
    {
      "cell_type": "code",
      "source": [
        "# Importing required lib\n",
        "\n",
        "from tensorflow.keras.models import Sequential\n",
        "from tensorflow.keras.layers import Convolution2D,MaxPooling2D,Flatten,Dense"
      ],
      "metadata": {
        "id": "FtRKhJ5SZIav"
      },
      "execution_count": 7,
      "outputs": []
    },
    {
      "cell_type": "code",
      "source": [
        "# Creating CNN block\n",
        "\n",
        "model = Sequential()\n",
        "model.add(Convolution2D(32,(3,3),activation='relu',input_shape=(64,64,3))) # Convolution layer\n",
        "model.add(MaxPooling2D(pool_size=(2,2))) # Max pooling layer\n",
        "model.add(Flatten()) # Flatten layer\n",
        "# Fully connected layers (ANN)\n",
        "model.add(Dense(1200,activation='relu')) # Hidden layer 1\n",
        "model.add(Dense(600,activation='relu')) # Hidden layer 2\n",
        "model.add(Dense(6,activation='softmax')) # Output layer"
      ],
      "metadata": {
        "id": "9mo3PnKic8DT"
      },
      "execution_count": 20,
      "outputs": []
    },
    {
      "cell_type": "code",
      "source": [
        "# Compile the model\n",
        "\n",
        "model.compile(optimizer='adam',loss='categorical_crossentropy',metrics=['accuracy'])"
      ],
      "metadata": {
        "id": "5RoaxAhpgFHM"
      },
      "execution_count": 21,
      "outputs": []
    },
    {
      "cell_type": "code",
      "source": [
        "# Train model\n",
        "\n",
        "model.fit_generator(xtrain,\n",
        "                    steps_per_epoch=len(xtrain),\n",
        "                    epochs=50,\n",
        "                    validation_data=xtest,\n",
        "                    validation_steps=len(xtest))"
      ],
      "metadata": {
        "colab": {
          "base_uri": "https://localhost:8080/"
        },
        "id": "uoXy9JNbgnKU",
        "outputId": "b53c0423-0c7a-457a-bd9b-2cd07cc481c9"
      },
      "execution_count": 22,
      "outputs": [
        {
          "output_type": "stream",
          "name": "stdout",
          "text": [
            "Epoch 1/50\n"
          ]
        },
        {
          "output_type": "stream",
          "name": "stderr",
          "text": [
            "/usr/local/lib/python3.7/dist-packages/ipykernel_launcher.py:7: UserWarning: `Model.fit_generator` is deprecated and will be removed in a future version. Please use `Model.fit`, which supports generators.\n",
            "  import sys\n"
          ]
        },
        {
          "output_type": "stream",
          "name": "stdout",
          "text": [
            "6/6 [==============================] - 2s 193ms/step - loss: 9.1645 - accuracy: 0.1700 - val_loss: 5.7967 - val_accuracy: 0.1667\n",
            "Epoch 2/50\n",
            "6/6 [==============================] - 1s 159ms/step - loss: 3.4045 - accuracy: 0.1667 - val_loss: 2.0294 - val_accuracy: 0.2667\n",
            "Epoch 3/50\n",
            "6/6 [==============================] - 1s 157ms/step - loss: 1.9522 - accuracy: 0.3350 - val_loss: 1.7070 - val_accuracy: 0.4000\n",
            "Epoch 4/50\n",
            "6/6 [==============================] - 1s 156ms/step - loss: 1.7023 - accuracy: 0.2862 - val_loss: 1.6355 - val_accuracy: 0.3000\n",
            "Epoch 5/50\n",
            "6/6 [==============================] - 1s 161ms/step - loss: 1.6259 - accuracy: 0.4327 - val_loss: 1.4792 - val_accuracy: 0.5333\n",
            "Epoch 6/50\n",
            "6/6 [==============================] - 1s 170ms/step - loss: 1.4876 - accuracy: 0.5438 - val_loss: 1.3688 - val_accuracy: 0.3667\n",
            "Epoch 7/50\n",
            "6/6 [==============================] - 1s 165ms/step - loss: 1.2407 - accuracy: 0.6667 - val_loss: 1.0391 - val_accuracy: 0.5333\n",
            "Epoch 8/50\n",
            "6/6 [==============================] - 1s 164ms/step - loss: 0.9706 - accuracy: 0.6768 - val_loss: 1.0095 - val_accuracy: 0.5667\n",
            "Epoch 9/50\n",
            "6/6 [==============================] - 1s 160ms/step - loss: 0.7520 - accuracy: 0.7559 - val_loss: 0.7415 - val_accuracy: 0.7333\n",
            "Epoch 10/50\n",
            "6/6 [==============================] - 1s 165ms/step - loss: 0.5958 - accuracy: 0.7811 - val_loss: 0.9115 - val_accuracy: 0.5667\n",
            "Epoch 11/50\n",
            "6/6 [==============================] - 1s 160ms/step - loss: 0.5059 - accuracy: 0.8199 - val_loss: 0.9551 - val_accuracy: 0.5667\n",
            "Epoch 12/50\n",
            "6/6 [==============================] - 1s 162ms/step - loss: 0.4400 - accuracy: 0.8384 - val_loss: 0.6454 - val_accuracy: 0.7667\n",
            "Epoch 13/50\n",
            "6/6 [==============================] - 1s 159ms/step - loss: 0.3794 - accuracy: 0.8569 - val_loss: 0.6448 - val_accuracy: 0.6333\n",
            "Epoch 14/50\n",
            "6/6 [==============================] - 1s 157ms/step - loss: 0.3481 - accuracy: 0.8805 - val_loss: 0.7569 - val_accuracy: 0.6667\n",
            "Epoch 15/50\n",
            "6/6 [==============================] - 1s 162ms/step - loss: 0.2852 - accuracy: 0.9141 - val_loss: 0.5895 - val_accuracy: 0.7333\n",
            "Epoch 16/50\n",
            "6/6 [==============================] - 1s 157ms/step - loss: 0.2272 - accuracy: 0.9310 - val_loss: 0.5515 - val_accuracy: 0.7667\n",
            "Epoch 17/50\n",
            "6/6 [==============================] - 1s 157ms/step - loss: 0.2092 - accuracy: 0.9276 - val_loss: 0.6230 - val_accuracy: 0.7667\n",
            "Epoch 18/50\n",
            "6/6 [==============================] - 1s 159ms/step - loss: 0.1839 - accuracy: 0.9512 - val_loss: 0.5121 - val_accuracy: 0.6667\n",
            "Epoch 19/50\n",
            "6/6 [==============================] - 1s 158ms/step - loss: 0.1664 - accuracy: 0.9478 - val_loss: 0.5272 - val_accuracy: 0.7000\n",
            "Epoch 20/50\n",
            "6/6 [==============================] - 1s 159ms/step - loss: 0.1586 - accuracy: 0.9478 - val_loss: 0.7592 - val_accuracy: 0.7667\n",
            "Epoch 21/50\n",
            "6/6 [==============================] - 1s 161ms/step - loss: 0.1562 - accuracy: 0.9495 - val_loss: 0.6696 - val_accuracy: 0.6333\n",
            "Epoch 22/50\n",
            "6/6 [==============================] - 1s 157ms/step - loss: 0.1327 - accuracy: 0.9630 - val_loss: 0.5109 - val_accuracy: 0.8000\n",
            "Epoch 23/50\n",
            "6/6 [==============================] - 1s 167ms/step - loss: 0.1336 - accuracy: 0.9663 - val_loss: 0.5271 - val_accuracy: 0.7333\n",
            "Epoch 24/50\n",
            "6/6 [==============================] - 1s 161ms/step - loss: 0.1092 - accuracy: 0.9630 - val_loss: 0.4844 - val_accuracy: 0.8333\n",
            "Epoch 25/50\n",
            "6/6 [==============================] - 1s 160ms/step - loss: 0.1143 - accuracy: 0.9596 - val_loss: 0.7566 - val_accuracy: 0.6333\n",
            "Epoch 26/50\n",
            "6/6 [==============================] - 1s 157ms/step - loss: 0.0954 - accuracy: 0.9663 - val_loss: 0.5897 - val_accuracy: 0.6667\n",
            "Epoch 27/50\n",
            "6/6 [==============================] - 1s 158ms/step - loss: 0.0762 - accuracy: 0.9832 - val_loss: 0.4807 - val_accuracy: 0.8000\n",
            "Epoch 28/50\n",
            "6/6 [==============================] - 1s 161ms/step - loss: 0.0655 - accuracy: 0.9882 - val_loss: 0.9916 - val_accuracy: 0.5667\n",
            "Epoch 29/50\n",
            "6/6 [==============================] - 1s 157ms/step - loss: 0.1063 - accuracy: 0.9646 - val_loss: 0.8413 - val_accuracy: 0.6000\n",
            "Epoch 30/50\n",
            "6/6 [==============================] - 1s 157ms/step - loss: 0.0744 - accuracy: 0.9764 - val_loss: 0.3519 - val_accuracy: 0.8333\n",
            "Epoch 31/50\n",
            "6/6 [==============================] - 1s 162ms/step - loss: 0.0729 - accuracy: 0.9764 - val_loss: 0.5086 - val_accuracy: 0.7667\n",
            "Epoch 32/50\n",
            "6/6 [==============================] - 1s 161ms/step - loss: 0.0760 - accuracy: 0.9832 - val_loss: 0.5044 - val_accuracy: 0.8000\n",
            "Epoch 33/50\n",
            "6/6 [==============================] - 1s 162ms/step - loss: 0.0605 - accuracy: 0.9865 - val_loss: 0.4089 - val_accuracy: 0.8333\n",
            "Epoch 34/50\n",
            "6/6 [==============================] - 1s 165ms/step - loss: 0.0611 - accuracy: 0.9832 - val_loss: 0.6100 - val_accuracy: 0.8000\n",
            "Epoch 35/50\n",
            "6/6 [==============================] - 1s 161ms/step - loss: 0.0670 - accuracy: 0.9832 - val_loss: 0.6304 - val_accuracy: 0.7667\n",
            "Epoch 36/50\n",
            "6/6 [==============================] - 1s 162ms/step - loss: 0.0482 - accuracy: 0.9899 - val_loss: 0.2306 - val_accuracy: 0.9000\n",
            "Epoch 37/50\n",
            "6/6 [==============================] - 1s 164ms/step - loss: 0.0467 - accuracy: 0.9916 - val_loss: 0.1740 - val_accuracy: 0.9667\n",
            "Epoch 38/50\n",
            "6/6 [==============================] - 1s 160ms/step - loss: 0.0610 - accuracy: 0.9832 - val_loss: 0.4434 - val_accuracy: 0.8000\n",
            "Epoch 39/50\n",
            "6/6 [==============================] - 1s 159ms/step - loss: 0.0327 - accuracy: 0.9916 - val_loss: 0.2839 - val_accuracy: 0.8667\n",
            "Epoch 40/50\n",
            "6/6 [==============================] - 1s 158ms/step - loss: 0.0339 - accuracy: 0.9933 - val_loss: 0.2433 - val_accuracy: 0.9000\n",
            "Epoch 41/50\n",
            "6/6 [==============================] - 1s 157ms/step - loss: 0.0346 - accuracy: 0.9949 - val_loss: 0.2538 - val_accuracy: 0.9000\n",
            "Epoch 42/50\n",
            "6/6 [==============================] - 1s 163ms/step - loss: 0.0371 - accuracy: 0.9882 - val_loss: 0.2218 - val_accuracy: 0.9000\n",
            "Epoch 43/50\n",
            "6/6 [==============================] - 1s 161ms/step - loss: 0.0272 - accuracy: 0.9933 - val_loss: 0.4435 - val_accuracy: 0.8667\n",
            "Epoch 44/50\n",
            "6/6 [==============================] - 1s 165ms/step - loss: 0.0390 - accuracy: 0.9848 - val_loss: 0.4623 - val_accuracy: 0.8000\n",
            "Epoch 45/50\n",
            "6/6 [==============================] - 1s 162ms/step - loss: 0.0465 - accuracy: 0.9848 - val_loss: 0.5488 - val_accuracy: 0.8333\n",
            "Epoch 46/50\n",
            "6/6 [==============================] - 1s 160ms/step - loss: 0.0557 - accuracy: 0.9798 - val_loss: 0.4098 - val_accuracy: 0.9000\n",
            "Epoch 47/50\n",
            "6/6 [==============================] - 1s 162ms/step - loss: 0.0244 - accuracy: 0.9916 - val_loss: 0.3000 - val_accuracy: 0.9000\n",
            "Epoch 48/50\n",
            "6/6 [==============================] - 1s 163ms/step - loss: 0.0280 - accuracy: 0.9899 - val_loss: 0.4793 - val_accuracy: 0.8333\n",
            "Epoch 49/50\n",
            "6/6 [==============================] - 1s 162ms/step - loss: 0.0244 - accuracy: 0.9916 - val_loss: 0.2742 - val_accuracy: 0.9000\n",
            "Epoch 50/50\n",
            "6/6 [==============================] - 1s 163ms/step - loss: 0.0179 - accuracy: 0.9949 - val_loss: 0.5558 - val_accuracy: 0.7667\n"
          ]
        },
        {
          "output_type": "execute_result",
          "data": {
            "text/plain": [
              "<keras.callbacks.History at 0x7f6d36538210>"
            ]
          },
          "metadata": {},
          "execution_count": 22
        }
      ]
    },
    {
      "cell_type": "code",
      "source": [
        "# Saving model\n",
        "\n",
        "model.save('gestures.h5')"
      ],
      "metadata": {
        "id": "PRj46wxMhN30"
      },
      "execution_count": 23,
      "outputs": []
    },
    {
      "cell_type": "markdown",
      "source": [
        "# Testing the model"
      ],
      "metadata": {
        "id": "Jp1oWo5Hicuk"
      }
    },
    {
      "cell_type": "code",
      "source": [
        "# Importing req lib\n",
        "\n",
        "import numpy as np\n",
        "from tensorflow.keras.preprocessing import image"
      ],
      "metadata": {
        "id": "HHEOVXQqhtQ0"
      },
      "execution_count": 24,
      "outputs": []
    },
    {
      "cell_type": "code",
      "source": [
        "# Reading the image\n",
        "\n",
        "img = image.load_img('/content/dataset/Testing/0/0.jpg',target_size=(64,64))"
      ],
      "metadata": {
        "id": "EfBznYqfigu2"
      },
      "execution_count": 30,
      "outputs": []
    },
    {
      "cell_type": "code",
      "source": [
        "# Visualize the image\n",
        "\n",
        "img"
      ],
      "metadata": {
        "colab": {
          "base_uri": "https://localhost:8080/",
          "height": 81
        },
        "id": "qJpetzZci3Fk",
        "outputId": "40e9507c-963a-433c-ff9a-6cd630a41389"
      },
      "execution_count": 31,
      "outputs": [
        {
          "output_type": "execute_result",
          "data": {
            "text/plain": [
              "<PIL.Image.Image image mode=RGB size=64x64 at 0x7F6D36569D90>"
            ],
            "image/png": "[encoded data removed]"
          },
          "metadata": {},
          "execution_count": 31
        }
      ]
    },
    {
      "cell_type": "code",
      "source": [
        "# Converting image to array\n",
        "\n",
        "x = image.img_to_array(img)\n",
        "x"
      ],
      "metadata": {
        "colab": {
          "base_uri": "https://localhost:8080/"
        },
        "id": "7ALTeLEZi6e3",
        "outputId": "0796c935-a812-4cf8-e237-5083860c6224"
      },
      "execution_count": 32,
      "outputs": [
        {
          "output_type": "execute_result",
          "data": {
            "text/plain": [
              "array([[[255., 255., 255.],\n",
              "        [255., 255., 255.],\n",
              "        [255., 255., 255.],\n",
              "        ...,\n",
              "        [255., 255., 255.],\n",
              "        [255., 255., 255.],\n",
              "        [255., 255., 255.]],\n",
              "\n",
              "       [[255., 255., 255.],\n",
              "        [255., 255., 255.],\n",
              "        [255., 255., 255.],\n",
              "        ...,\n",
              "        [255., 255., 255.],\n",
              "        [255., 255., 255.],\n",
              "        [255., 255., 255.]],\n",
              "\n",
              "       [[255., 255., 255.],\n",
              "        [255., 255., 255.],\n",
              "        [255., 255., 255.],\n",
              "        ...,\n",
              "        [255., 255., 255.],\n",
              "        [255., 255., 255.],\n",
              "        [255., 255., 255.]],\n",
              "\n",
              "       ...,\n",
              "\n",
              "       [[255., 255., 255.],\n",
              "        [255., 255., 255.],\n",
              "        [255., 255., 255.],\n",
              "        ...,\n",
              "        [255., 255., 255.],\n",
              "        [255., 255., 255.],\n",
              "        [255., 255., 255.]],\n",
              "\n",
              "       [[255., 255., 255.],\n",
              "        [255., 255., 255.],\n",
              "        [255., 255., 255.],\n",
              "        ...,\n",
              "        [255., 255., 255.],\n",
              "        [255., 255., 255.],\n",
              "        [255., 255., 255.]],\n",
              "\n",
              "       [[255., 255., 255.],\n",
              "        [255., 255., 255.],\n",
              "        [255., 255., 255.],\n",
              "        ...,\n",
              "        [255., 255., 255.],\n",
              "        [255., 255., 255.],\n",
              "        [255., 255., 255.]]], dtype=float32)"
            ]
          },
          "metadata": {},
          "execution_count": 32
        }
      ]
    },
    {
      "cell_type": "code",
      "source": [
        "# Expanding dimensions\n",
        "\n",
        "x = np.expand_dims(x,axis=0)\n",
        "x"
      ],
      "metadata": {
        "colab": {
          "base_uri": "https://localhost:8080/"
        },
        "id": "f4UgXmORjayI",
        "outputId": "1d6a4bac-0c9c-478e-c54d-99434f321195"
      },
      "execution_count": 33,
      "outputs": [
        {
          "output_type": "execute_result",
          "data": {
            "text/plain": [
              "array([[[[255., 255., 255.],\n",
              "         [255., 255., 255.],\n",
              "         [255., 255., 255.],\n",
              "         ...,\n",
              "         [255., 255., 255.],\n",
              "         [255., 255., 255.],\n",
              "         [255., 255., 255.]],\n",
              "\n",
              "        [[255., 255., 255.],\n",
              "         [255., 255., 255.],\n",
              "         [255., 255., 255.],\n",
              "         ...,\n",
              "         [255., 255., 255.],\n",
              "         [255., 255., 255.],\n",
              "         [255., 255., 255.]],\n",
              "\n",
              "        [[255., 255., 255.],\n",
              "         [255., 255., 255.],\n",
              "         [255., 255., 255.],\n",
              "         ...,\n",
              "         [255., 255., 255.],\n",
              "         [255., 255., 255.],\n",
              "         [255., 255., 255.]],\n",
              "\n",
              "        ...,\n",
              "\n",
              "        [[255., 255., 255.],\n",
              "         [255., 255., 255.],\n",
              "         [255., 255., 255.],\n",
              "         ...,\n",
              "         [255., 255., 255.],\n",
              "         [255., 255., 255.],\n",
              "         [255., 255., 255.]],\n",
              "\n",
              "        [[255., 255., 255.],\n",
              "         [255., 255., 255.],\n",
              "         [255., 255., 255.],\n",
              "         ...,\n",
              "         [255., 255., 255.],\n",
              "         [255., 255., 255.],\n",
              "         [255., 255., 255.]],\n",
              "\n",
              "        [[255., 255., 255.],\n",
              "         [255., 255., 255.],\n",
              "         [255., 255., 255.],\n",
              "         ...,\n",
              "         [255., 255., 255.],\n",
              "         [255., 255., 255.],\n",
              "         [255., 255., 255.]]]], dtype=float32)"
            ]
          },
          "metadata": {},
          "execution_count": 33
        }
      ]
    },
    {
      "cell_type": "code",
      "source": [
        "# Predicting animal\n",
        "\n",
        "model.predict(x)"
      ],
      "metadata": {
        "colab": {
          "base_uri": "https://localhost:8080/"
        },
        "id": "3UDL5V9ZjmvS",
        "outputId": "48f900f8-24bf-4dcc-d36a-854c1954b940"
      },
      "execution_count": 34,
      "outputs": [
        {
          "output_type": "stream",
          "name": "stdout",
          "text": [
            "1/1 [==============================] - 0s 15ms/step\n"
          ]
        },
        {
          "output_type": "execute_result",
          "data": {
            "text/plain": [
              "array([[1., 0., 0., 0., 0., 0.]], dtype=float32)"
            ]
          },
          "metadata": {},
          "execution_count": 34
        }
      ]
    },
    {
      "cell_type": "code",
      "source": [
        "# For visualizing class index\n",
        "\n",
        "xtrain.class_indices"
      ],
      "metadata": {
        "colab": {
          "base_uri": "https://localhost:8080/"
        },
        "id": "taGSq--ckMdp",
        "outputId": "39d54627-cc6b-4147-dca5-99bdcd2823c0"
      },
      "execution_count": 35,
      "outputs": [
        {
          "output_type": "execute_result",
          "data": {
            "text/plain": [
              "{'0': 0, '1': 1, '2': 2, '3': 3, '4': 4, '5': 5}"
            ]
          },
          "metadata": {},
          "execution_count": 35
        }
      ]
    },
    {
      "cell_type": "code",
      "source": [
        "# Predicting and index matching\n",
        "\n",
        "op = ['Zero','One','Two','Three','Four','Five']\n",
        "pred = np.argmax(model.predict(x))\n",
        "op[pred]"
      ],
      "metadata": {
        "colab": {
          "base_uri": "https://localhost:8080/",
          "height": 53
        },
        "id": "gVIl3SDYkYq7",
        "outputId": "385cd509-7085-4235-b7ab-1fc80ea87be5"
      },
      "execution_count": 36,
      "outputs": [
        {
          "output_type": "stream",
          "name": "stdout",
          "text": [
            "1/1 [==============================] - 0s 17ms/step\n"
          ]
        },
        {
          "output_type": "execute_result",
          "data": {
            "text/plain": [
              "'Zero'"
            ],
            "application/vnd.google.colaboratory.intrinsic+json": {
              "type": "string"
            }
          },
          "metadata": {},
          "execution_count": 36
        }
      ]
    },
    {
      "cell_type": "code",
      "source": [
        "# Testing\n",
        "\n",
        "img = image.load_img('/content/dataset/Testing/3/1.jpg',target_size=(64,64))\n",
        "x = image.img_to_array(img)\n",
        "x = np.expand_dims(x,axis=0)\n",
        "pred = np.argmax(model.predict(x))\n",
        "op[pred]"
      ],
      "metadata": {
        "colab": {
          "base_uri": "https://localhost:8080/",
          "height": 53
        },
        "id": "_nrVonJMmAsw",
        "outputId": "539ffe20-6eeb-49b5-b2b3-195e7daeb125"
      },
      "execution_count": 38,
      "outputs": [
        {
          "output_type": "stream",
          "name": "stdout",
          "text": [
            "1/1 [==============================] - 0s 16ms/step\n"
          ]
        },
        {
          "output_type": "execute_result",
          "data": {
            "text/plain": [
              "'Three'"
            ],
            "application/vnd.google.colaboratory.intrinsic+json": {
              "type": "string"
            }
          },
          "metadata": {},
          "execution_count": 38
        }
      ]
    },
    {
      "cell_type": "code",
      "source": [],
      "metadata": {
        "id": "G-X80nrumWhY"
      },
      "execution_count": null,
      "outputs": []
    },
    {
      "cell_type": "markdown",
      "source": [
        "# Model Tuning"
      ],
      "metadata": {
        "id": "UoRCV7YUmeM3"
      }
    },
    {
      "cell_type": "code",
      "source": [
        "from keras.callbacks import EarlyStopping, ReduceLROnPlateau"
      ],
      "metadata": {
        "id": "akQKVqYPmvFH"
      },
      "execution_count": 39,
      "outputs": []
    },
    {
      "cell_type": "code",
      "source": [
        "early_stopping = EarlyStopping(monitor='val_accuracy',\n",
        "                        patience=5)\n",
        "reduce_lr = ReduceLROnPlateau(monitor='val_accuracy',\n",
        "                        patience=5,\n",
        "                        factor=0.5,min_lr=0.00001)\n",
        "\n",
        "callback = [reduce_lr,early_stopping]"
      ],
      "metadata": {
        "id": "mIBMqyummg3n"
      },
      "execution_count": 41,
      "outputs": []
    },
    {
      "cell_type": "code",
      "source": [
        "# Train model\n",
        "\n",
        "model.fit_generator(xtrain,\n",
        "                    steps_per_epoch=len(xtrain),\n",
        "                    epochs=100,\n",
        "                    callbacks=callback,\n",
        "                    validation_data=xtest,\n",
        "                    validation_steps=len(xtest))"
      ],
      "metadata": {
        "colab": {
          "base_uri": "https://localhost:8080/"
        },
        "id": "Qi1jA2qqny7v",
        "outputId": "d21ee332-0b6d-40b0-9bf4-e02c24c490d3"
      },
      "execution_count": 43,
      "outputs": [
        {
          "output_type": "stream",
          "name": "stdout",
          "text": [
            "Epoch 1/100\n"
          ]
        },
        {
          "output_type": "stream",
          "name": "stderr",
          "text": [
            "/usr/local/lib/python3.7/dist-packages/ipykernel_launcher.py:8: UserWarning: `Model.fit_generator` is deprecated and will be removed in a future version. Please use `Model.fit`, which supports generators.\n",
            "  \n"
          ]
        },
        {
          "output_type": "stream",
          "name": "stdout",
          "text": [
            "6/6 [==============================] - 1s 168ms/step - loss: 0.0302 - accuracy: 0.9916 - val_loss: 0.4273 - val_accuracy: 0.8333 - lr: 5.0000e-04\n",
            "Epoch 2/100\n",
            "6/6 [==============================] - 1s 163ms/step - loss: 0.0160 - accuracy: 0.9966 - val_loss: 0.2592 - val_accuracy: 0.9000 - lr: 5.0000e-04\n",
            "Epoch 3/100\n",
            "6/6 [==============================] - 1s 166ms/step - loss: 0.0195 - accuracy: 0.9916 - val_loss: 0.4913 - val_accuracy: 0.8667 - lr: 5.0000e-04\n",
            "Epoch 4/100\n",
            "6/6 [==============================] - 1s 156ms/step - loss: 0.0243 - accuracy: 0.9933 - val_loss: 0.2516 - val_accuracy: 0.9000 - lr: 5.0000e-04\n",
            "Epoch 5/100\n",
            "6/6 [==============================] - 1s 159ms/step - loss: 0.0199 - accuracy: 0.9966 - val_loss: 0.4553 - val_accuracy: 0.9000 - lr: 5.0000e-04\n",
            "Epoch 6/100\n",
            "6/6 [==============================] - 1s 160ms/step - loss: 0.0225 - accuracy: 0.9949 - val_loss: 0.2962 - val_accuracy: 0.9000 - lr: 5.0000e-04\n",
            "Epoch 7/100\n",
            "6/6 [==============================] - 1s 159ms/step - loss: 0.0072 - accuracy: 1.0000 - val_loss: 0.2997 - val_accuracy: 0.9000 - lr: 5.0000e-04\n"
          ]
        },
        {
          "output_type": "execute_result",
          "data": {
            "text/plain": [
              "<keras.callbacks.History at 0x7f6d361e1210>"
            ]
          },
          "metadata": {},
          "execution_count": 43
        }
      ]
    },
    {
      "cell_type": "code",
      "source": [
        "# Testing\n",
        "\n",
        "img = image.load_img('/content/dataset/Testing/3/2.jpg',target_size=(64,64))\n",
        "x = image.img_to_array(img)\n",
        "x = np.expand_dims(x,axis=0)\n",
        "pred = np.argmax(model.predict(x))\n",
        "op[pred]"
      ],
      "metadata": {
        "colab": {
          "base_uri": "https://localhost:8080/",
          "height": 53
        },
        "id": "QR_bEJshn8TC",
        "outputId": "25c3c08f-208f-49ef-d54c-104e089a3dee"
      },
      "execution_count": 45,
      "outputs": [
        {
          "output_type": "stream",
          "name": "stdout",
          "text": [
            "1/1 [==============================] - 0s 17ms/step\n"
          ]
        },
        {
          "output_type": "execute_result",
          "data": {
            "text/plain": [
              "'Three'"
            ],
            "application/vnd.google.colaboratory.intrinsic+json": {
              "type": "string"
            }
          },
          "metadata": {},
          "execution_count": 45
        }
      ]
    }
  ]
}